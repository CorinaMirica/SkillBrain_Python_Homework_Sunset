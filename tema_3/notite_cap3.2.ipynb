{
 "cells": [
  {
   "cell_type": "markdown",
   "id": "0adb8d84",
   "metadata": {},
   "source": [
    "#\n",
    "acesta este titlul pentru capitolul 3\n"
   ]
  },
  {
   "cell_type": "code",
   "execution_count": 5,
   "id": "92c5802a",
   "metadata": {},
   "outputs": [
    {
     "name": "stdout",
     "output_type": "stream",
     "text": [
      "buna ziua\n"
     ]
    }
   ],
   "source": [
    "print('buna ziua')"
   ]
  },
  {
   "cell_type": "markdown",
   "id": "85f9c05c",
   "metadata": {},
   "source": [
    "## Acesta este alt capitol\n",
    "\n"
   ]
  },
  {
   "cell_type": "code",
   "execution_count": 1,
   "id": "eb3beeba",
   "metadata": {},
   "outputs": [
    {
     "name": "stdout",
     "output_type": "stream",
     "text": [
      "ESTE VOCALA\n"
     ]
    }
   ],
   "source": [
    "vocale = 'aeiou'\n",
    "\n",
    "litera=input('Introdu o litera').lower()\n",
    "\n",
    "if litera in vocale:\n",
    "    print('Este vocala'.upper())\n",
    "else:\n",
    "    print('Este consoana'.upper())"
   ]
  },
  {
   "cell_type": "code",
   "execution_count": null,
   "id": "7d8ece97",
   "metadata": {},
   "outputs": [],
   "source": [
    "if 'a' in 'urs':\n",
    "    print('este')\n",
    "\n",
    "else:\n",
    "    print('nu este')"
   ]
  },
  {
   "cell_type": "markdown",
   "id": "dfbaa0fa",
   "metadata": {},
   "source": [
    "#functia len()"
   ]
  },
  {
   "cell_type": "code",
   "execution_count": 29,
   "id": "beb209fb",
   "metadata": {},
   "outputs": [
    {
     "name": "stdout",
     "output_type": "stream",
     "text": [
      "prea lunga\n"
     ]
    }
   ],
   "source": [
    "password_input = input('Parola')\n",
    "if len(password_input) < 6:\n",
    "    print('Introdu mai multe caractere')\n",
    "elif len(password_input) > 20:\n",
    "    print('prea lunga')"
   ]
  },
  {
   "cell_type": "code",
   "execution_count": 24,
   "id": "5031a2fe",
   "metadata": {},
   "outputs": [
    {
     "data": {
      "text/plain": [
       "7"
      ]
     },
     "execution_count": 24,
     "metadata": {},
     "output_type": "execute_result"
    }
   ],
   "source": [
    "len('tralala')"
   ]
  }
 ],
 "metadata": {
  "kernelspec": {
   "display_name": "Python 3",
   "language": "python",
   "name": "python3"
  },
  "language_info": {
   "codemirror_mode": {
    "name": "ipython",
    "version": 3
   },
   "file_extension": ".py",
   "mimetype": "text/x-python",
   "name": "python",
   "nbconvert_exporter": "python",
   "pygments_lexer": "ipython3",
   "version": "3.13.6"
  }
 },
 "nbformat": 4,
 "nbformat_minor": 5
}
